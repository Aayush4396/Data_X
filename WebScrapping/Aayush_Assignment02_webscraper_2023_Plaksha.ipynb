{
  "cells": [
    {
      "cell_type": "markdown",
      "metadata": {
        "id": "U7PcNG1vs-xJ"
      },
      "source": [
        "<img src=\"https://raw.githubusercontent.com/afo/data-x-plaksha/master/imgsource/dx_logo.png\" align=\"left\"></img><br><br><br><br>"
      ]
    },
    {
      "cell_type": "markdown",
      "metadata": {
        "id": "W76_C47Ws-xM"
      },
      "source": [
        "## Plaksha Web scraping assignment"
      ]
    },
    {
      "cell_type": "markdown",
      "metadata": {
        "id": "UMKziPuRs-xN"
      },
      "source": [
        "---\n",
        "<a id='sec4'></a>\n",
        "# Assignment problem\n",
        "\n",
        "\n",
        "In this week's assignment you should extract live weather data in Mohali for the next 15 days:\n",
        "\n",
        "[https://weather.com/en-IN/weather/tenday/l/d253814420804f28d49f7a75130e71b797c3c93f9ded842eaf6769e3784da352](https://weather.com/en-IN/weather/tenday/l/d253814420804f28d49f7a75130e71b797c3c93f9ded842eaf6769e3784da352)\n",
        "\n",
        "* Task scrape\n",
        "    * day | period (as Wed 11 | Day, Wed 11 | Night etc.)\n",
        "    * the temperature for the period\n",
        "    * the short description (e.g. Mostly Clear, Sunny etc.)\n",
        "    * the long weather description (e.g. Showers late at night. Low 12ºC. Winds SE at 10 to 15 km/h. Chance of rain 40%.)\n",
        "    \n",
        "Store the scraped data strings in a Pandas DataFrame\n",
        "\n",
        "\n",
        "\n",
        "**Hint:** The weather information is found in a div tag with `class_='DailyForecast--DisclosureList--nosQS'`\n",
        "\n",
        "Your DataFrame should be similar to the below screenshot (with the same columns):<br>\n",
        "![DataFrame_Output.jpg](data:image/jpeg;base64,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)"
      ]
    },
    {
      "cell_type": "markdown",
      "metadata": {
        "id": "9p5pshjDs-xN"
      },
      "source": [
        "# Assignment solution"
      ]
    },
    {
      "cell_type": "markdown",
      "source": [
        "# 1. Importing Libraries"
      ],
      "metadata": {
        "id": "34nh4NEmtRCA"
      }
    },
    {
      "cell_type": "code",
      "execution_count": 18,
      "metadata": {
        "id": "--E2RwEOs-xO"
      },
      "outputs": [],
      "source": [
        "import requests\n",
        "import bs4 as bs\n",
        "import pandas as pd"
      ]
    },
    {
      "cell_type": "markdown",
      "source": [
        "# 2. Getting Request"
      ],
      "metadata": {
        "id": "pKT0h-mpt9yR"
      }
    },
    {
      "cell_type": "markdown",
      "source": [
        "**user-agent**\n",
        "\n",
        "When you're sending a request to a webpage (no matter if it comes from your computer, iphone, or Python's request package), then you also include a user-agent. This let's the webserver know how to render the contents for you. You can also send user-agent information via a request (to specify who you are for example, or to disguise that you're an automated scraper).\n",
        "\n",
        "Find your machine's / browser's true user agent by Googling: https://www.google.com/search?q=find+my+user+agent&oq=find+my+user+agent"
      ],
      "metadata": {
        "id": "6XpOvid3tuSf"
      }
    },
    {
      "cell_type": "code",
      "execution_count": 19,
      "metadata": {
        "id": "NS1IWjRPs-xP"
      },
      "outputs": [],
      "source": [
        "headers = {'User-Agent':'Mozilla/5.0 (Windows NT 10.0; Win64; x64) AppleWebKit/537.36 (KHTML, like Gecko) Chrome/109.0.0.0 Safari/537.36'}\n",
        "source = requests.get('https://weather.com/en-IN/weather/tenday/l/d253814420804f28d49f7a75130e71b797c3c93f9ded842eaf6769e3784da352', headers=headers)"
      ]
    },
    {
      "cell_type": "code",
      "source": [
        "source"
      ],
      "metadata": {
        "colab": {
          "base_uri": "https://localhost:8080/",
          "height": 0
        },
        "id": "cSIJydFBuehQ",
        "outputId": "3ab83092-5e7d-41a8-ecfc-bf9086182a23"
      },
      "execution_count": 20,
      "outputs": [
        {
          "output_type": "execute_result",
          "data": {
            "text/plain": [
              "<Response [200]>"
            ]
          },
          "metadata": {},
          "execution_count": 20
        }
      ]
    },
    {
      "cell_type": "code",
      "execution_count": 21,
      "metadata": {
        "colab": {
          "base_uri": "https://localhost:8080/",
          "height": 0
        },
        "id": "gcAlofEAs-xP",
        "outputId": "378e63e3-24a9-4dd1-ea0a-aa39d445ce06"
      },
      "outputs": [
        {
          "output_type": "execute_result",
          "data": {
            "text/plain": [
              "{'Content-Type': 'text/html; charset=utf-8', 'X-DNS-Prefetch-Control': 'off', 'X-Frame-Options': 'SAMEORIGIN', 'X-Download-Options': 'noopen', 'X-Content-Type-Options': 'nosniff', 'X-XSS-Protection': '1; mode=block', 'webcakes-app-name': 'daily', 'webcakes-app-version': '1.0.0-06bfdfc2cc', 'webcakes-region': 'sjc03', 'ETag': 'W/\"1044c5-lkLXH122ep2wLSWs4UZOcWmfbLQ\"', 'X-Akamai-Transformed': '9 - 0 pmb=mTOE,4mRUM,1', 'Content-Encoding': 'gzip', 'Expires': 'Fri, 20 Jan 2023 06:31:29 GMT', 'Cache-Control': 'max-age=0, no-cache', 'Pragma': 'no-cache', 'Date': 'Fri, 20 Jan 2023 06:31:29 GMT', 'Transfer-Encoding': 'chunked', 'Connection': 'keep-alive, Transfer-Encoding', 'Vary': 'Accept-Encoding', 'Set-Cookie': 'speedpin=4G; expires=Fri, 20-Jan-2023 07:01:29 GMT; path=/; domain=.weather.com; secure, ci=TWC-Connection-Speed=4G&TWC-Locale-Group=GLS+&TWC-Device-Class=desktop&X-Origin-Hint=PROD-IBM-Daily&TWC-Network-Type=wifi&TWC-GeoIP-Country=US&TWC-GeoIP-Lat=39.0438&TWC-GeoIP-Long=-77.4879&Akamai-Connection-Speed=1000+&TWC-Privacy=usa-va&TWC-GeoIP-DMA=511&TWC-GeoIP-City=ASHBURN&TWC-GeoIP-Region=VA; path=/; domain=.weather.com; secure, ak_bmsc=B44832DB7FB4CEBF798C85C07E7590D9~000000000000000000000000000000~YAAQxzoiF6ZvXM2FAQAAAgjgzRLmkHAQpzChPUP5saWMGYxC+hyQQM8YF0ifpiNKDo5D6PCHEaSEpbJz1TFbYpkyy2eJh+lTnCBjkfdW3j/OZcdMPbJdbRmVF/pSxggvIur8QQr+N47vmu16+FoDZDSBF4zwmHuAQ7iIYUlZS/Zyq4RSO5GRqRyAS6VMc/1zgRUYe4NPfk/GTcyR8or6J0AaqFY33pmS3YA7OPCf1bxOV4k08RrrjgMVCQt70Jz1nHAt87HvB6pnE8tLtpOztVlSQnHGE0I4brMang/GqDQxBCx+Ao/HNCFXJ1x2TgKU+IDzsKfjiNkOgiaRLddOrLFyfWnyKfGL1pAXCQhx/sDEIKOPXwWuy/M9EGiD; Domain=.weather.com; Path=/; Expires=Fri, 20 Jan 2023 08:31:28 GMT; Max-Age=7199; HttpOnly, bm_mi=B0453B9AD9A1C26B9818C9D57E040BBD~YAAQxzoiF6dvXM2FAQAAAgjgzRKKQcm4q/jTfTnOiuumuITyKHrejMe8yJtwudRfwM8NGrIfTAxYXh+gUCl0Rfry2uRK/2wT51VTmS9uivnfp6LSZDITI9xAANJ3S5C9NlqO22E7G6kd8k/w+EJKV5vgx5tj9B7jzdSX4p9e3uWNLr5p1A8B1T49kUwInwYK9Gc2gAAWhrkfWnhyPO58nUTIU9gX3scBzRmsTSPpFOOmcmo3gJOdc/RElAXq1lk1AhVuQkbAiGGgTLSnM0fJH20N1qm48Cykh6xfsPDmALCf3xBUldw3b4Qa/AwiRlVc/jcyPQqE60qtA8t1mdWpoDt9DA4cU/DPmBTZvhVhqd21lFQka4+Ff+hITk+aBw3TgkAnKrQkhKSFeSkHWXJLukunZi7c1rykOCVFF7LcK77Yq3BrUQ==~1; Domain=.weather.com; Path=/; Expires=Fri, 20 Jan 2023 06:31:29 GMT; Max-Age=0; Secure', 'Server-Timing': 'cdn-cache; desc=REVALIDATE, edge; dur=161, origin; dur=776, intid;desc=b18636200161b61b', 'Access-Control-Max-Age': '86400', 'Access-Control-Allow-Credentials': 'false', 'Access-Control-Allow-Headers': '*', 'Access-Control-Allow-Methods': 'GET,POST,OPTIONS', 'Access-Control-Allow-Origin': '*', 'Property-id': 'TWC-WX-Prod', 'TWC-PATH-LOCALE': '/en-IN/', 'TWC-Subs': 'none', 'TWC-Unit': 'u', 'TWC-Privacy': 'usa-va', 'TWC-GeoIP-Region': 'VA', 'TWC-GeoIP-City': 'ASHBURN', 'TWC-GeoIP-DMA': '511', 'TWC-GeoIP-LatLong': '39.0438,-77.4879', 'TWC-GeoIP-Country': 'US', 'TWC-Device-Class': 'desktop', 'TWC-Locale-Group': 'GLS+', 'TWC-Connection-Speed': '4G', 'Strict-Transport-Security': 'max-age=15552000; preload', 'TWC-AK-Req-ID': '97b606', 'X-Origin-Hint': 'PROD-IBM-Daily'}"
            ]
          },
          "metadata": {},
          "execution_count": 21
        }
      ],
      "source": [
        "source.headers"
      ]
    },
    {
      "cell_type": "markdown",
      "source": [
        "# 3. Scraping"
      ],
      "metadata": {
        "id": "or9NougH20tG"
      }
    },
    {
      "cell_type": "code",
      "execution_count": 22,
      "metadata": {
        "id": "sbMJ5D-as-xQ"
      },
      "outputs": [],
      "source": [
        "soup = bs.BeautifulSoup(source.content, features = 'html.parser')"
      ]
    },
    {
      "cell_type": "markdown",
      "source": [
        "Creating dictionary for the 4 columns to be created in the dataframe"
      ],
      "metadata": {
        "id": "S2Uyv1BHuKs4"
      }
    },
    {
      "cell_type": "code",
      "execution_count": 23,
      "metadata": {
        "id": "EQnmTc9Fs-xQ"
      },
      "outputs": [],
      "source": [
        "data = {'day':[], 'temp':[], 'short_desc':[], 'desc':[]}"
      ]
    },
    {
      "cell_type": "markdown",
      "source": [
        "The required data such as day, temperature, short description and long description is scraped by inspecting the weather site and finding the relevant class name.<br>\n",
        "I used the following four highlighted elements to scrape the data.<br>\n",
        "![Weather_data.jpg](data:image/jpeg;base64,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)"
      ],
      "metadata": {
        "id": "G29v8tbkumWJ"
      }
    },
    {
      "cell_type": "markdown",
      "source": [
        "Using html attribute 'class' and for loop to find all the 15 days (and night) data related to the weather."
      ],
      "metadata": {
        "id": "kIN4pyc82Oim"
      }
    },
    {
      "cell_type": "code",
      "execution_count": 24,
      "metadata": {
        "id": "PgLo7WQzs-xQ"
      },
      "outputs": [],
      "source": [
        "for d in soup.find_all(class_ = 'DailyContent--daypartName--3emSU'):\n",
        "    data['day'].append(d.text)"
      ]
    },
    {
      "cell_type": "code",
      "execution_count": 25,
      "metadata": {
        "id": "dAVWbkYCs-xR"
      },
      "outputs": [],
      "source": [
        "for t in soup.find_all(class_ = 'DailyContent--temp--1s3a7'):\n",
        "    data['temp'].append(t.text)"
      ]
    },
    {
      "cell_type": "code",
      "execution_count": 26,
      "metadata": {
        "id": "gGzMEwR7s-xR"
      },
      "outputs": [],
      "source": [
        "for sd in soup.find_all(class_ = 'DailyContent--weatherIcon--Kh7Ru'):\n",
        "    data['short_desc'].append(sd.text)"
      ]
    },
    {
      "cell_type": "code",
      "execution_count": 27,
      "metadata": {
        "id": "sbUPrscbs-xR"
      },
      "outputs": [],
      "source": [
        "for des in soup.find_all(class_ = 'DailyContent--narrative--3Ti6_'):\n",
        "    data['desc'].append(des.text)"
      ]
    },
    {
      "cell_type": "markdown",
      "source": [
        "# 4. Output"
      ],
      "metadata": {
        "id": "J3t-PxBH2eoT"
      }
    },
    {
      "cell_type": "code",
      "execution_count": 28,
      "metadata": {
        "colab": {
          "base_uri": "https://localhost:8080/",
          "height": 990
        },
        "id": "aiefJrurs-xR",
        "outputId": "84fde468-77b2-4f47-ecaa-29749f2ecf24"
      },
      "outputs": [
        {
          "output_type": "execute_result",
          "data": {
            "text/plain": [
              "               day temp                     short_desc  \\\n",
              "0     Fri 20 | Day  17°                         Cloudy   \n",
              "1   Fri 20 | Night   9°            Partly Cloudy Night   \n",
              "2     Sat 21 | Day  20°                          Sunny   \n",
              "3   Sat 21 | Night   8°                    Clear Night   \n",
              "4     Sun 22 | Day  21°                          Sunny   \n",
              "5   Sun 22 | Night   9°             Mostly Clear Night   \n",
              "6     Mon 23 | Day  20°                  Partly Cloudy   \n",
              "7   Mon 23 | Night  11°        Scattered Showers Night   \n",
              "8     Tue 24 | Day  20°                  Partly Cloudy   \n",
              "9   Tue 24 | Night  12°  Scattered Thunderstorms Night   \n",
              "10    Wed 25 | Day  19°                   Thunderstorm   \n",
              "11  Wed 25 | Night  12°                   Thunderstorm   \n",
              "12    Thu 26 | Day  19°        Scattered Thunderstorms   \n",
              "13  Thu 26 | Night  12°                   Thunderstorm   \n",
              "14    Fri 27 | Day  18°        Scattered Thunderstorms   \n",
              "15  Fri 27 | Night  11°  Scattered Thunderstorms Night   \n",
              "16    Sat 28 | Day  18°              Scattered Showers   \n",
              "17  Sat 28 | Night  10°              Scattered Showers   \n",
              "18    Sun 29 | Day  15°              Scattered Showers   \n",
              "19  Sun 29 | Night   8°                           Rain   \n",
              "20    Mon 30 | Day  17°                          Sunny   \n",
              "21  Mon 30 | Night   7°                    Clear Night   \n",
              "22    Tue 31 | Day  17°                          Sunny   \n",
              "23  Tue 31 | Night   7°             Mostly Clear Night   \n",
              "24    Wed 01 | Day  17°                          Sunny   \n",
              "25  Wed 01 | Night   7°             Mostly Clear Night   \n",
              "26    Thu 02 | Day  18°                          Sunny   \n",
              "27  Thu 02 | Night   7°                    Clear Night   \n",
              "28    Fri 03 | Day  19°                          Sunny   \n",
              "29  Fri 03 | Night   9°            Partly Cloudy Night   \n",
              "\n",
              "                                                 desc  \n",
              "0      Cloudy. High 17ºC. Winds NNW at 10 to 15 km/h.  \n",
              "1       Partly cloudy. Low 9ºC. Winds N and variable.  \n",
              "2   Generally clear. High 20ºC. Winds W and variable.  \n",
              "3     Generally clear. Low 8ºC. Winds N and variable.  \n",
              "4   Generally clear. High 21ºC. Winds NW and varia...  \n",
              "5   Generally clear. Low 9ºC. Winds NNE and variable.  \n",
              "6    Partly cloudy. High 20ºC. Winds NW and variable.  \n",
              "7   Showers late at night. Low 11ºC. Winds NNE and...  \n",
              "8   Partly cloudy. High 20ºC. Winds SE at 10 to 15...  \n",
              "9   Scattered thunderstorms. Low 12ºC. Winds ESE a...  \n",
              "10  Thunderstorms. High 19ºC. Winds SE at 10 to 15...  \n",
              "11  Thunderstorms. Hazy. Low 12ºC. Winds ESE and v...  \n",
              "12  Scattered thunderstorms. High 19ºC. Winds SSE ...  \n",
              "13  Thunderstorms. Low 12ºC. Winds ESE and variabl...  \n",
              "14  Scattered thunderstorms. High 18ºC. Winds S at...  \n",
              "15  Scattered thunderstorms. Low 11ºC. Winds NE an...  \n",
              "16  Showers. High 18ºC. Winds SSW at 10 to 15 km/h...  \n",
              "17  Showers. Low 10ºC. Winds ESE and variable. Cha...  \n",
              "18  Showers. High 15ºC. Winds WSW and variable. Ch...  \n",
              "19  Rain. Low 8ºC. Winds NE and variable. Chance o...  \n",
              "20  Generally clear. High 17ºC. Winds WNW at 10 to...  \n",
              "21  Generally clear. Low 7ºC. Winds NNW and variable.  \n",
              "22  Generally clear. High 17ºC. Winds WNW at 10 to...  \n",
              "23  Generally clear. Low 7ºC. Winds NNW and variable.  \n",
              "24  Generally clear. High 17ºC. Winds WNW at 10 to...  \n",
              "25  Generally clear. Low 7ºC. Winds NNW and variable.  \n",
              "26  Generally clear. High 18ºC. Winds WNW at 10 to...  \n",
              "27  Generally clear. Low 7ºC. Winds NNW and variable.  \n",
              "28  Generally clear. High 19ºC. Winds WNW at 10 to...  \n",
              "29    Partly cloudy. Low 9ºC. Winds NNE and variable.  "
            ],
            "text/html": [
              "\n",
              "  <div id=\"df-5d1e1f76-d154-41f4-a946-3fa8ee8f5aa5\">\n",
              "    <div class=\"colab-df-container\">\n",
              "      <div>\n",
              "<style scoped>\n",
              "    .dataframe tbody tr th:only-of-type {\n",
              "        vertical-align: middle;\n",
              "    }\n",
              "\n",
              "    .dataframe tbody tr th {\n",
              "        vertical-align: top;\n",
              "    }\n",
              "\n",
              "    .dataframe thead th {\n",
              "        text-align: right;\n",
              "    }\n",
              "</style>\n",
              "<table border=\"1\" class=\"dataframe\">\n",
              "  <thead>\n",
              "    <tr style=\"text-align: right;\">\n",
              "      <th></th>\n",
              "      <th>day</th>\n",
              "      <th>temp</th>\n",
              "      <th>short_desc</th>\n",
              "      <th>desc</th>\n",
              "    </tr>\n",
              "  </thead>\n",
              "  <tbody>\n",
              "    <tr>\n",
              "      <th>0</th>\n",
              "      <td>Fri 20 | Day</td>\n",
              "      <td>17°</td>\n",
              "      <td>Cloudy</td>\n",
              "      <td>Cloudy. High 17ºC. Winds NNW at 10 to 15 km/h.</td>\n",
              "    </tr>\n",
              "    <tr>\n",
              "      <th>1</th>\n",
              "      <td>Fri 20 | Night</td>\n",
              "      <td>9°</td>\n",
              "      <td>Partly Cloudy Night</td>\n",
              "      <td>Partly cloudy. Low 9ºC. Winds N and variable.</td>\n",
              "    </tr>\n",
              "    <tr>\n",
              "      <th>2</th>\n",
              "      <td>Sat 21 | Day</td>\n",
              "      <td>20°</td>\n",
              "      <td>Sunny</td>\n",
              "      <td>Generally clear. High 20ºC. Winds W and variable.</td>\n",
              "    </tr>\n",
              "    <tr>\n",
              "      <th>3</th>\n",
              "      <td>Sat 21 | Night</td>\n",
              "      <td>8°</td>\n",
              "      <td>Clear Night</td>\n",
              "      <td>Generally clear. Low 8ºC. Winds N and variable.</td>\n",
              "    </tr>\n",
              "    <tr>\n",
              "      <th>4</th>\n",
              "      <td>Sun 22 | Day</td>\n",
              "      <td>21°</td>\n",
              "      <td>Sunny</td>\n",
              "      <td>Generally clear. High 21ºC. Winds NW and varia...</td>\n",
              "    </tr>\n",
              "    <tr>\n",
              "      <th>5</th>\n",
              "      <td>Sun 22 | Night</td>\n",
              "      <td>9°</td>\n",
              "      <td>Mostly Clear Night</td>\n",
              "      <td>Generally clear. Low 9ºC. Winds NNE and variable.</td>\n",
              "    </tr>\n",
              "    <tr>\n",
              "      <th>6</th>\n",
              "      <td>Mon 23 | Day</td>\n",
              "      <td>20°</td>\n",
              "      <td>Partly Cloudy</td>\n",
              "      <td>Partly cloudy. High 20ºC. Winds NW and variable.</td>\n",
              "    </tr>\n",
              "    <tr>\n",
              "      <th>7</th>\n",
              "      <td>Mon 23 | Night</td>\n",
              "      <td>11°</td>\n",
              "      <td>Scattered Showers Night</td>\n",
              "      <td>Showers late at night. Low 11ºC. Winds NNE and...</td>\n",
              "    </tr>\n",
              "    <tr>\n",
              "      <th>8</th>\n",
              "      <td>Tue 24 | Day</td>\n",
              "      <td>20°</td>\n",
              "      <td>Partly Cloudy</td>\n",
              "      <td>Partly cloudy. High 20ºC. Winds SE at 10 to 15...</td>\n",
              "    </tr>\n",
              "    <tr>\n",
              "      <th>9</th>\n",
              "      <td>Tue 24 | Night</td>\n",
              "      <td>12°</td>\n",
              "      <td>Scattered Thunderstorms Night</td>\n",
              "      <td>Scattered thunderstorms. Low 12ºC. Winds ESE a...</td>\n",
              "    </tr>\n",
              "    <tr>\n",
              "      <th>10</th>\n",
              "      <td>Wed 25 | Day</td>\n",
              "      <td>19°</td>\n",
              "      <td>Thunderstorm</td>\n",
              "      <td>Thunderstorms. High 19ºC. Winds SE at 10 to 15...</td>\n",
              "    </tr>\n",
              "    <tr>\n",
              "      <th>11</th>\n",
              "      <td>Wed 25 | Night</td>\n",
              "      <td>12°</td>\n",
              "      <td>Thunderstorm</td>\n",
              "      <td>Thunderstorms. Hazy. Low 12ºC. Winds ESE and v...</td>\n",
              "    </tr>\n",
              "    <tr>\n",
              "      <th>12</th>\n",
              "      <td>Thu 26 | Day</td>\n",
              "      <td>19°</td>\n",
              "      <td>Scattered Thunderstorms</td>\n",
              "      <td>Scattered thunderstorms. High 19ºC. Winds SSE ...</td>\n",
              "    </tr>\n",
              "    <tr>\n",
              "      <th>13</th>\n",
              "      <td>Thu 26 | Night</td>\n",
              "      <td>12°</td>\n",
              "      <td>Thunderstorm</td>\n",
              "      <td>Thunderstorms. Low 12ºC. Winds ESE and variabl...</td>\n",
              "    </tr>\n",
              "    <tr>\n",
              "      <th>14</th>\n",
              "      <td>Fri 27 | Day</td>\n",
              "      <td>18°</td>\n",
              "      <td>Scattered Thunderstorms</td>\n",
              "      <td>Scattered thunderstorms. High 18ºC. Winds S at...</td>\n",
              "    </tr>\n",
              "    <tr>\n",
              "      <th>15</th>\n",
              "      <td>Fri 27 | Night</td>\n",
              "      <td>11°</td>\n",
              "      <td>Scattered Thunderstorms Night</td>\n",
              "      <td>Scattered thunderstorms. Low 11ºC. Winds NE an...</td>\n",
              "    </tr>\n",
              "    <tr>\n",
              "      <th>16</th>\n",
              "      <td>Sat 28 | Day</td>\n",
              "      <td>18°</td>\n",
              "      <td>Scattered Showers</td>\n",
              "      <td>Showers. High 18ºC. Winds SSW at 10 to 15 km/h...</td>\n",
              "    </tr>\n",
              "    <tr>\n",
              "      <th>17</th>\n",
              "      <td>Sat 28 | Night</td>\n",
              "      <td>10°</td>\n",
              "      <td>Scattered Showers</td>\n",
              "      <td>Showers. Low 10ºC. Winds ESE and variable. Cha...</td>\n",
              "    </tr>\n",
              "    <tr>\n",
              "      <th>18</th>\n",
              "      <td>Sun 29 | Day</td>\n",
              "      <td>15°</td>\n",
              "      <td>Scattered Showers</td>\n",
              "      <td>Showers. High 15ºC. Winds WSW and variable. Ch...</td>\n",
              "    </tr>\n",
              "    <tr>\n",
              "      <th>19</th>\n",
              "      <td>Sun 29 | Night</td>\n",
              "      <td>8°</td>\n",
              "      <td>Rain</td>\n",
              "      <td>Rain. Low 8ºC. Winds NE and variable. Chance o...</td>\n",
              "    </tr>\n",
              "    <tr>\n",
              "      <th>20</th>\n",
              "      <td>Mon 30 | Day</td>\n",
              "      <td>17°</td>\n",
              "      <td>Sunny</td>\n",
              "      <td>Generally clear. High 17ºC. Winds WNW at 10 to...</td>\n",
              "    </tr>\n",
              "    <tr>\n",
              "      <th>21</th>\n",
              "      <td>Mon 30 | Night</td>\n",
              "      <td>7°</td>\n",
              "      <td>Clear Night</td>\n",
              "      <td>Generally clear. Low 7ºC. Winds NNW and variable.</td>\n",
              "    </tr>\n",
              "    <tr>\n",
              "      <th>22</th>\n",
              "      <td>Tue 31 | Day</td>\n",
              "      <td>17°</td>\n",
              "      <td>Sunny</td>\n",
              "      <td>Generally clear. High 17ºC. Winds WNW at 10 to...</td>\n",
              "    </tr>\n",
              "    <tr>\n",
              "      <th>23</th>\n",
              "      <td>Tue 31 | Night</td>\n",
              "      <td>7°</td>\n",
              "      <td>Mostly Clear Night</td>\n",
              "      <td>Generally clear. Low 7ºC. Winds NNW and variable.</td>\n",
              "    </tr>\n",
              "    <tr>\n",
              "      <th>24</th>\n",
              "      <td>Wed 01 | Day</td>\n",
              "      <td>17°</td>\n",
              "      <td>Sunny</td>\n",
              "      <td>Generally clear. High 17ºC. Winds WNW at 10 to...</td>\n",
              "    </tr>\n",
              "    <tr>\n",
              "      <th>25</th>\n",
              "      <td>Wed 01 | Night</td>\n",
              "      <td>7°</td>\n",
              "      <td>Mostly Clear Night</td>\n",
              "      <td>Generally clear. Low 7ºC. Winds NNW and variable.</td>\n",
              "    </tr>\n",
              "    <tr>\n",
              "      <th>26</th>\n",
              "      <td>Thu 02 | Day</td>\n",
              "      <td>18°</td>\n",
              "      <td>Sunny</td>\n",
              "      <td>Generally clear. High 18ºC. Winds WNW at 10 to...</td>\n",
              "    </tr>\n",
              "    <tr>\n",
              "      <th>27</th>\n",
              "      <td>Thu 02 | Night</td>\n",
              "      <td>7°</td>\n",
              "      <td>Clear Night</td>\n",
              "      <td>Generally clear. Low 7ºC. Winds NNW and variable.</td>\n",
              "    </tr>\n",
              "    <tr>\n",
              "      <th>28</th>\n",
              "      <td>Fri 03 | Day</td>\n",
              "      <td>19°</td>\n",
              "      <td>Sunny</td>\n",
              "      <td>Generally clear. High 19ºC. Winds WNW at 10 to...</td>\n",
              "    </tr>\n",
              "    <tr>\n",
              "      <th>29</th>\n",
              "      <td>Fri 03 | Night</td>\n",
              "      <td>9°</td>\n",
              "      <td>Partly Cloudy Night</td>\n",
              "      <td>Partly cloudy. Low 9ºC. Winds NNE and variable.</td>\n",
              "    </tr>\n",
              "  </tbody>\n",
              "</table>\n",
              "</div>\n",
              "      <button class=\"colab-df-convert\" onclick=\"convertToInteractive('df-5d1e1f76-d154-41f4-a946-3fa8ee8f5aa5')\"\n",
              "              title=\"Convert this dataframe to an interactive table.\"\n",
              "              style=\"display:none;\">\n",
              "        \n",
              "  <svg xmlns=\"http://www.w3.org/2000/svg\" height=\"24px\"viewBox=\"0 0 24 24\"\n",
              "       width=\"24px\">\n",
              "    <path d=\"M0 0h24v24H0V0z\" fill=\"none\"/>\n",
              "    <path d=\"M18.56 5.44l.94 2.06.94-2.06 2.06-.94-2.06-.94-.94-2.06-.94 2.06-2.06.94zm-11 1L8.5 8.5l.94-2.06 2.06-.94-2.06-.94L8.5 2.5l-.94 2.06-2.06.94zm10 10l.94 2.06.94-2.06 2.06-.94-2.06-.94-.94-2.06-.94 2.06-2.06.94z\"/><path d=\"M17.41 7.96l-1.37-1.37c-.4-.4-.92-.59-1.43-.59-.52 0-1.04.2-1.43.59L10.3 9.45l-7.72 7.72c-.78.78-.78 2.05 0 2.83L4 21.41c.39.39.9.59 1.41.59.51 0 1.02-.2 1.41-.59l7.78-7.78 2.81-2.81c.8-.78.8-2.07 0-2.86zM5.41 20L4 18.59l7.72-7.72 1.47 1.35L5.41 20z\"/>\n",
              "  </svg>\n",
              "      </button>\n",
              "      \n",
              "  <style>\n",
              "    .colab-df-container {\n",
              "      display:flex;\n",
              "      flex-wrap:wrap;\n",
              "      gap: 12px;\n",
              "    }\n",
              "\n",
              "    .colab-df-convert {\n",
              "      background-color: #E8F0FE;\n",
              "      border: none;\n",
              "      border-radius: 50%;\n",
              "      cursor: pointer;\n",
              "      display: none;\n",
              "      fill: #1967D2;\n",
              "      height: 32px;\n",
              "      padding: 0 0 0 0;\n",
              "      width: 32px;\n",
              "    }\n",
              "\n",
              "    .colab-df-convert:hover {\n",
              "      background-color: #E2EBFA;\n",
              "      box-shadow: 0px 1px 2px rgba(60, 64, 67, 0.3), 0px 1px 3px 1px rgba(60, 64, 67, 0.15);\n",
              "      fill: #174EA6;\n",
              "    }\n",
              "\n",
              "    [theme=dark] .colab-df-convert {\n",
              "      background-color: #3B4455;\n",
              "      fill: #D2E3FC;\n",
              "    }\n",
              "\n",
              "    [theme=dark] .colab-df-convert:hover {\n",
              "      background-color: #434B5C;\n",
              "      box-shadow: 0px 1px 3px 1px rgba(0, 0, 0, 0.15);\n",
              "      filter: drop-shadow(0px 1px 2px rgba(0, 0, 0, 0.3));\n",
              "      fill: #FFFFFF;\n",
              "    }\n",
              "  </style>\n",
              "\n",
              "      <script>\n",
              "        const buttonEl =\n",
              "          document.querySelector('#df-5d1e1f76-d154-41f4-a946-3fa8ee8f5aa5 button.colab-df-convert');\n",
              "        buttonEl.style.display =\n",
              "          google.colab.kernel.accessAllowed ? 'block' : 'none';\n",
              "\n",
              "        async function convertToInteractive(key) {\n",
              "          const element = document.querySelector('#df-5d1e1f76-d154-41f4-a946-3fa8ee8f5aa5');\n",
              "          const dataTable =\n",
              "            await google.colab.kernel.invokeFunction('convertToInteractive',\n",
              "                                                     [key], {});\n",
              "          if (!dataTable) return;\n",
              "\n",
              "          const docLinkHtml = 'Like what you see? Visit the ' +\n",
              "            '<a target=\"_blank\" href=https://colab.research.google.com/notebooks/data_table.ipynb>data table notebook</a>'\n",
              "            + ' to learn more about interactive tables.';\n",
              "          element.innerHTML = '';\n",
              "          dataTable['output_type'] = 'display_data';\n",
              "          await google.colab.output.renderOutput(dataTable, element);\n",
              "          const docLink = document.createElement('div');\n",
              "          docLink.innerHTML = docLinkHtml;\n",
              "          element.appendChild(docLink);\n",
              "        }\n",
              "      </script>\n",
              "    </div>\n",
              "  </div>\n",
              "  "
            ]
          },
          "metadata": {},
          "execution_count": 28
        }
      ],
      "source": [
        "pd.DataFrame(data = data)"
      ]
    },
    {
      "cell_type": "code",
      "source": [],
      "metadata": {
        "id": "RF2c8sjn2uut"
      },
      "execution_count": 28,
      "outputs": []
    }
  ],
  "metadata": {
    "kernelspec": {
      "display_name": "Python 3",
      "language": "python",
      "name": "python3"
    },
    "language_info": {
      "codemirror_mode": {
        "name": "ipython",
        "version": 3
      },
      "file_extension": ".py",
      "mimetype": "text/x-python",
      "name": "python",
      "nbconvert_exporter": "python",
      "pygments_lexer": "ipython3",
      "version": "3.9.13"
    },
    "vscode": {
      "interpreter": {
        "hash": "f8f14f5a7c49a331ac7a55934b43ce13bd28be1333db14e2d71768ad3378996c"
      }
    },
    "colab": {
      "provenance": []
    }
  },
  "nbformat": 4,
  "nbformat_minor": 0
}